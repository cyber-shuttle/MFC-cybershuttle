{
 "cells": [
  {
   "cell_type": "markdown",
   "id": "1b46f8ca-3351-42e3-bc55-b90e453f9559",
   "metadata": {
    "jp-MarkdownHeadingCollapsed": true
   },
   "source": [
    "# Request Resources"
   ]
  },
  {
   "cell_type": "code",
   "execution_count": null,
   "id": "b2440c4e-3ed0-4050-a3ec-31a9fce03210",
   "metadata": {
    "scrolled": true
   },
   "outputs": [],
   "source": [
    "%pip install --upgrade -q \"airavata-python-sdk[notebook]\"\n",
    "import airavata_jupyter_magic\n",
    "\n",
    "%authenticate\n",
    "%request_runtime hpc_cpu --file=cybershuttle.yml --walltime=60 --use=expanse:shared\n",
    "# %request_runtime hpc_cpu --file=cybershuttle.yml --walltime=60 --use=AnvilCPU:shared\n",
    "%wait_for_runtime hpc_cpu --live\n",
    "%copy_data source=local:case.py target=hpc_cpu:case.py \n",
    "%switch_runtime hpc_cpu"
   ]
  },
  {
   "cell_type": "markdown",
   "id": "2f6da849-d751-4a82-8d04-3962185e2db1",
   "metadata": {
    "jp-MarkdownHeadingCollapsed": true
   },
   "source": [
    "# Run Job on Anvil"
   ]
  },
  {
   "cell_type": "code",
   "execution_count": null,
   "id": "1afa3a98",
   "metadata": {},
   "outputs": [],
   "source": [
    "! export MFC_Root=\"$HOME/MFC/MFC-Wilfong\"; \\\n",
    "module load python openmpi/4.1.6 cmake/3.20.0 gcc/11.2.0; \\\n",
    "$MFC_Root/mfc.sh run case.py --case-optimization --no-gpu --mpi -b mpirun -N 1 -n 4 -j 4;"
   ]
  },
  {
   "cell_type": "markdown",
   "id": "f714c232-da96-4ee8-8e59-405c070b10d3",
   "metadata": {
    "jp-MarkdownHeadingCollapsed": true
   },
   "source": [
    "# Run Job on Expanse"
   ]
  },
  {
   "cell_type": "code",
   "execution_count": null,
   "id": "ae313e69-2f7a-4884-939e-654ed60f9450",
   "metadata": {
    "scrolled": true
   },
   "outputs": [],
   "source": [
    "! export MFC_Root=/home/gridchem/apps/MFC/MFC-Wilfong; \\\n",
    ". $MFC_Root/mfc.sh load -c e -m c; \\\n",
    "module load cmake/3.21.4; \\\n",
    "$MFC_Root/mfc.sh run case.py --case-optimization --no-gpu --mpi -b mpirun -N 1 -n 4 -j 4 --no-build;"
   ]
  },
  {
   "cell_type": "markdown",
   "id": "f4cff510-c1dd-4028-af28-0eb53cf62088",
   "metadata": {
    "jp-MarkdownHeadingCollapsed": true
   },
   "source": [
    "# Compress Database Files Transfer"
   ]
  },
  {
   "cell_type": "code",
   "execution_count": null,
   "id": "faef98a7",
   "metadata": {},
   "outputs": [],
   "source": [
    "! tar -czf silo.tar.gz silo_hdf5/; \\\n",
    "echo \"Tarball created\""
   ]
  },
  {
   "cell_type": "markdown",
   "id": "6da50110-cc6d-4e7b-b47a-1090464f4580",
   "metadata": {
    "jp-MarkdownHeadingCollapsed": true
   },
   "source": [
    "# Transfer Files"
   ]
  },
  {
   "cell_type": "code",
   "execution_count": null,
   "id": "efc8d290-5af5-46de-a632-536301a20f4f",
   "metadata": {},
   "outputs": [],
   "source": [
    "%copy_data source=hpc_cpu:silo.tar.gz target=local:silo.tar.gz"
   ]
  }
 ],
 "metadata": {
  "kernelspec": {
   "display_name": "Python 3 (ipykernel)",
   "language": "python",
   "name": "python3"
  },
  "language_info": {
   "codemirror_mode": {
    "name": "ipython",
    "version": 3
   },
   "file_extension": ".py",
   "mimetype": "text/x-python",
   "name": "python",
   "nbconvert_exporter": "python",
   "pygments_lexer": "ipython3",
   "version": "3.11.6"
  }
 },
 "nbformat": 4,
 "nbformat_minor": 5
}
