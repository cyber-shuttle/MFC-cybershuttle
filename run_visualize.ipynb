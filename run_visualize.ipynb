{
 "cells": [
  {
   "cell_type": "markdown",
   "id": "a939377c-e854-4e2e-9ceb-0b9f1cb25c78",
   "metadata": {},
   "source": [
    "# Notebook Description"
   ]
  },
  {
   "cell_type": "markdown",
   "id": "3cc2b8ff-f5a8-42f9-9e26-af6a5bd39d2f",
   "metadata": {},
   "source": [
    "This notebook shows how to simulate a two-dimensional shock-bubble interaction using MFC.\n",
    "The simulation shows a helium bubble in air being impinged with a Mach 1.5 shockwave.\n",
    "This is a canonical test problem in compressible fluid dynamics with ample experimental and computational results to compare to.\n",
    "This notebook highlights how Cybershuttle can be used to dispatch software to multiple different systems from one notebook."
   ]
  },
  {
   "cell_type": "markdown",
   "id": "1b46f8ca-3351-42e3-bc55-b90e453f9559",
   "metadata": {},
   "source": [
    "# Request Resources"
   ]
  },
  {
   "cell_type": "code",
   "execution_count": null,
   "id": "b2440c4e-3ed0-4050-a3ec-31a9fce03210",
   "metadata": {
    "scrolled": true
   },
   "outputs": [],
   "source": [
    "%pip install -q \"airavata-python-sdk[notebook]==2.1.3.post2\"\n",
    "import airavata_jupyter_magic\n",
    "\n",
    "%authenticate\n",
    "\n",
    "# Request resource on SDSC Expanse\n",
    "# %request_runtime hpc_cpu --file=cybershuttle.yml --walltime=60 --use=expanse:shared\n",
    "\n",
    "# Request resource on Jetstream 2\n",
    "%request_runtime hpc_cpu --file=cybershuttle.yml --walltime=60 --use=NeuroData25VC1:cloud\n",
    "\n",
    "%wait_for_runtime hpc_cpu --live\n",
    "%copy_data source=local:case.py target=hpc_cpu:case.py \n",
    "%switch_runtime hpc_cpu"
   ]
  },
  {
   "cell_type": "markdown",
   "id": "f714c232-da96-4ee8-8e59-405c070b10d3",
   "metadata": {
    "jp-MarkdownHeadingCollapsed": true
   },
   "source": [
    "# Run Job on Expanse"
   ]
  },
  {
   "cell_type": "code",
   "execution_count": null,
   "id": "ae313e69-2f7a-4884-939e-654ed60f9450",
   "metadata": {
    "scrolled": true
   },
   "outputs": [],
   "source": [
    "! export MFC_Root=/home/gridchem/apps/MFC/MFC-Wilfong; \\\n",
    ". $MFC_Root/mfc.sh load -c e -m c; \\\n",
    "module load cmake/3.21.4; \\\n",
    "$MFC_Root/mfc.sh run case.py --case-optimization --no-gpu --mpi -b mpirun -N 1 -n 4 -j 4 --no-build;"
   ]
  },
  {
   "cell_type": "markdown",
   "id": "de14762c-46fb-49d3-8f98-1e5b24122b1a",
   "metadata": {
    "jp-MarkdownHeadingCollapsed": true
   },
   "source": [
    "# Run on Jetstream 2"
   ]
  },
  {
   "cell_type": "code",
   "execution_count": null,
   "id": "14744269-a62d-456c-a5f6-391a37b564f1",
   "metadata": {
    "scrolled": true
   },
   "outputs": [],
   "source": [
    "! export MFC_Root=\"$HOME/apps/MFC-Wilfong\"; \\\n",
    "module load gnu9/9.4.0 openmpi4/4.1.1; \\\n",
    "$MFC_Root/mfc.sh run case.py --case-optimization --no-gpu --mpi -b mpirun -N 1 -n 4 -j 4 --no-build;"
   ]
  },
  {
   "cell_type": "markdown",
   "id": "f4cff510-c1dd-4028-af28-0eb53cf62088",
   "metadata": {},
   "source": [
    "# Compress Database Files For Transfer"
   ]
  },
  {
   "cell_type": "code",
   "execution_count": null,
   "id": "faef98a7",
   "metadata": {},
   "outputs": [],
   "source": [
    "! tar -czf silo.tar.gz silo_hdf5/; \\\n",
    "echo \"Tarball created\""
   ]
  },
  {
   "cell_type": "markdown",
   "id": "6da50110-cc6d-4e7b-b47a-1090464f4580",
   "metadata": {},
   "source": [
    "# Transfer Files"
   ]
  },
  {
   "cell_type": "code",
   "execution_count": null,
   "id": "efc8d290-5af5-46de-a632-536301a20f4f",
   "metadata": {},
   "outputs": [],
   "source": [
    "%copy_data source=hpc_cpu:silo.tar.gz target=local:silo.tar.gz"
   ]
  }
 ],
 "metadata": {
  "kernelspec": {
   "display_name": "Python 3 (ipykernel)",
   "language": "python",
   "name": "python3"
  },
  "language_info": {
   "codemirror_mode": {
    "name": "ipython",
    "version": 3
   },
   "file_extension": ".py",
   "mimetype": "text/x-python",
   "name": "python",
   "nbconvert_exporter": "python",
   "pygments_lexer": "ipython3",
   "version": "3.11.6"
  }
 },
 "nbformat": 4,
 "nbformat_minor": 5
}
