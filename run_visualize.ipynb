{
 "cells": [
  {
   "cell_type": "code",
   "execution_count": 1,
   "id": "7817d47c",
   "metadata": {},
   "outputs": [
    {
     "name": "stdout",
     "output_type": "stream",
     "text": [
      "Note: you may need to restart the kernel to use updated packages.\n",
      "\n",
      "Loaded airavata_jupyter_magic (2.0.12) \n",
      "(current runtime = local)\n",
      "\n",
      "  %authenticate                      -- Authenticate to access high-performance runtimes.\n",
      "  %request_runtime <rt> [args]       -- Request a runtime named <rt> with configuration <args>. Call multiple times to request multiple runtimes.\n",
      "  %restart_runtime <rt>              -- Restart runtime <rt>. Run this if you install new dependencies or if the runtime hangs.\n",
      "  %stop_runtime <rt>                 -- Stop runtime <rt> when no longer needed.\n",
      "  %switch_runtime <rt>               -- Switch active runtime to <rt>. All subsequent executions will use this runtime.\n",
      "  %%run_on <rt>                      -- Force a cell to always execute on <rt>, regardless of the active runtime.\n",
      "  %stat_runtime <rt>                 -- Show the status of runtime <rt>.\n",
      "  %copy_data <r1:file1> <r2:file2>   -- Copy <file1> in <r1> to <file2> in <r2>.\n",
      "\n"
     ]
    },
    {
     "data": {
      "application/vnd.jupyter.widget-view+json": {
       "model_id": "5ac370f7be6c4ee5850e1188621b082e",
       "version_major": 2,
       "version_minor": 0
      },
      "text/plain": [
       "Output()"
      ]
     },
     "metadata": {},
     "output_type": "display_data"
    },
    {
     "data": {
      "text/html": [
       "<pre style=\"white-space:pre;overflow-x:auto;line-height:normal;font-family:Menlo,'DejaVu Sans Mono',consolas,'Courier New',monospace\">Authenticated.\n",
       "</pre>\n"
      ],
      "text/plain": [
       "Authenticated.\n"
      ]
     },
     "metadata": {},
     "output_type": "display_data"
    },
    {
     "data": {
      "text/html": [
       "<pre style=\"white-space:pre;overflow-x:auto;line-height:normal;font-family:Menlo,'DejaVu Sans Mono',consolas,'Courier New',monospace\"></pre>\n"
      ],
      "text/plain": []
     },
     "metadata": {},
     "output_type": "display_data"
    },
    {
     "data": {
      "text/html": [
       "<pre style=\"white-space:pre;overflow-x:auto;line-height:normal;font-family:Menlo,'DejaVu Sans Mono',consolas,'Courier New',monospace\"></pre>\n"
      ],
      "text/plain": []
     },
     "metadata": {},
     "output_type": "display_data"
    },
    {
     "name": "stdout",
     "output_type": "stream",
     "text": [
      "Requesting runtime=hpc_cpu\n",
      "cpuCount: 4\n",
      "experimentName: CS_Agent\n",
      "group: Default\n",
      "libraries:\n",
      "- python=3.10\n",
      "- pip\n",
      "- cmake\n",
      "- wget\n",
      "- paraview\n",
      "memory: 8192\n",
      "mounts: []\n",
      "nodeCount: 1\n",
      "pip: []\n",
      "queue: shared\n",
      "remoteCluster: expanse\n",
      "wallTime: 60\n",
      "\n",
      "Requested runtime=hpc_cpu. state=CONFIGURING_WORKSPACE\n",
      "Switched to runtime=hpc_cpu.\n"
     ]
    }
   ],
   "source": [
    "%pip install -q \"airavata-python-sdk[notebook]\"\n",
    "import airavata_jupyter_magic\n",
    "\n",
    "%authenticate\n",
    "%request_runtime hpc_cpu --file=cybershuttle.yml --walltime=60 --use=expanse:shared\n",
    "%switch_runtime hpc_cpu"
   ]
  },
  {
   "cell_type": "code",
   "execution_count": null,
   "id": "4f0ae697",
   "metadata": {},
   "outputs": [
    {
     "name": "stdout",
     "output_type": "stream",
     "text": [
      "\u001b[2K\u001b[32m⠸\u001b[0m Connecting to=hpc_cpu... status=CONNECTEDWORKSPACE\n",
      "\u001b[1A\u001b[2K\u001b[2J\u001b[H"
     ]
    }
   ],
   "source": [
    "!git clone -b MFC_IDEAS_WS https://github.com/wilfonba/MFC-Wilfong.git /workspace/MFC\n",
    "!cd /workspace/MFC\n",
    "%cd /workspace/MFC"
   ]
  },
  {
   "cell_type": "code",
   "execution_count": null,
   "id": "0d1ac62c",
   "metadata": {},
   "outputs": [],
   "source": [
    "!./mfc.sh build -j 4 -m c -c e"
   ]
  },
  {
   "cell_type": "code",
   "execution_count": null,
   "id": "1afa3a98",
   "metadata": {},
   "outputs": [],
   "source": [
    "!./mfc.sh run ./examples/2D_shockbubble/case.py --case-optimization --gpu -N 1 -n 1 -j 4"
   ]
  },
  {
   "cell_type": "code",
   "execution_count": null,
   "id": "faef98a7",
   "metadata": {},
   "outputs": [],
   "source": [
    "# state file generated using paraview version 5.11.0\n",
    "import paraview\n",
    "paraview.compatibility.major = 5\n",
    "paraview.compatibility.minor = 11\n",
    "\n",
    "#### import the simple module from the paraview\n",
    "from paraview.simple import *\n",
    "import os, re, glob\n",
    "#### disable automatic camera reset on 'Show'\n",
    "paraview.simple._DisableFirstRenderCameraReset()\n",
    "\n",
    "# ----------------------------------------------------------------\n",
    "# setup views used in the visualization\n",
    "# ----------------------------------------------------------------\n",
    "\n",
    "# get the material library\n",
    "materialLibrary1 = GetMaterialLibrary()\n",
    "\n",
    "# Create a new 'Render View'\n",
    "renderView1 = CreateView('RenderView')\n",
    "renderView1.ViewSize = [2210, 772]\n",
    "renderView1.InteractionMode = '2D'\n",
    "renderView1.AxesGrid = 'GridAxes3DActor'\n",
    "renderView1.OrientationAxesVisibility = 0\n",
    "renderView1.CenterOfRotation = [1.0, 0.0, 0.0]\n",
    "renderView1.UseLight = 0\n",
    "renderView1.StereoType = 'Crystal Eyes'\n",
    "renderView1.CameraPosition = [1.0, 0.0, 6.109051323707208]\n",
    "renderView1.CameraFocalPoint = [1.0, 0.0, 0.0]\n",
    "renderView1.CameraFocalDisk = 1.0\n",
    "renderView1.CameraParallelScale = 0.6711215151728613\n",
    "renderView1.UseColorPaletteForBackground = 0\n",
    "renderView1.Background = [1.0, 1.0, 1.0]\n",
    "renderView1.BackEnd = 'OSPRay raycaster'\n",
    "renderView1.OSPRayMaterialLibrary = materialLibrary1\n",
    "\n",
    "SetActiveView(None)\n",
    "\n",
    "# ----------------------------------------------------------------\n",
    "# setup view layouts\n",
    "# ----------------------------------------------------------------\n",
    "\n",
    "# create new layout object 'Layout #1'\n",
    "layout1 = CreateLayout(name='Layout #1')\n",
    "layout1.AssignView(0, renderView1)\n",
    "layout1.SetSize(2210, 772)\n",
    "\n",
    "# ----------------------------------------------------------------\n",
    "# restore active view\n",
    "SetActiveView(renderView1)\n",
    "# ----------------------------------------------------------------\n",
    "\n",
    "# ----------------------------------------------------------------\n",
    "# setup the data processing pipelines\n",
    "# ----------------------------------------------------------------\n",
    "\n",
    "# create a new 'VisItSiloReader'\n",
    "case_dir=os.getcwd()\n",
    "print(case_dir)\n",
    "# create a new 'VisItSiloReader'\n",
    "files = glob.glob(f\"{case_dir}/silo_hdf5/root/*\")\n",
    "print(files)\n",
    "sorted_files = sorted(files, key=lambda x: int(x.rsplit('_', 1)[-1][:-5]))\n",
    "print(sorted_files)\n",
    "collection_0silo = VisItSiloReader(registrationName='collection_0.silo*', FileName=sorted_files)\n",
    "collection_0silo.MeshStatus = ['rectilinear_grid']\n",
    "collection_0silo.CellArrayStatus = ['alpha1', 'alpha2', 'alpha_rho1', 'alpha_rho2', 'pres', 'vel1', 'vel2']\n",
    "\n",
    "# ----------------------------------------------------------------\n",
    "# setup the visualization in view 'renderView1'\n",
    "# ----------------------------------------------------------------\n",
    "\n",
    "# show data from collection_0silo\n",
    "collection_0siloDisplay = Show(collection_0silo, renderView1, 'UniformGridRepresentation')\n",
    "\n",
    "# get 2D transfer function for 'alpha1'\n",
    "alpha1TF2D = GetTransferFunction2D('alpha1')\n",
    "alpha1TF2D.ScalarRangeInitialized = 1\n",
    "alpha1TF2D.Range = [1e-08, 0.99999999, 0.0, 1.0]\n",
    "\n",
    "# get color transfer function/color map for 'alpha1'\n",
    "alpha1LUT = GetColorTransferFunction('alpha1')\n",
    "alpha1LUT.TransferFunction2D = alpha1TF2D\n",
    "alpha1LUT.RGBPoints = [-0.001545367168915121, 0.231373, 0.298039, 0.752941, 0.49922731535958514, 0.865003, 0.865003, 0.865003, 0.9999999978880855, 0.705882, 0.0156863, 0.14902]\n",
    "alpha1LUT.ScalarRangeInitialized = 1.0\n",
    "\n",
    "# get opacity transfer function/opacity map for 'alpha1'\n",
    "alpha1PWF = GetOpacityTransferFunction('alpha1')\n",
    "alpha1PWF.Points = [-0.001545367168915121, 0.0, 0.5, 0.0, 0.9999999978880855, 1.0, 0.5, 0.0]\n",
    "alpha1PWF.ScalarRangeInitialized = 1\n",
    "\n",
    "# trace defaults for the display properties.\n",
    "collection_0siloDisplay.Representation = 'Surface'\n",
    "collection_0siloDisplay.ColorArrayName = ['CELLS', 'alpha1']\n",
    "collection_0siloDisplay.LookupTable = alpha1LUT\n",
    "collection_0siloDisplay.SelectTCoordArray = 'None'\n",
    "collection_0siloDisplay.SelectNormalArray = 'None'\n",
    "collection_0siloDisplay.SelectTangentArray = 'None'\n",
    "collection_0siloDisplay.OSPRayScaleFunction = 'PiecewiseFunction'\n",
    "collection_0siloDisplay.SelectOrientationVectors = 'None'\n",
    "collection_0siloDisplay.ScaleFactor = 0.30000000000000004\n",
    "collection_0siloDisplay.SelectScaleArray = 'None'\n",
    "collection_0siloDisplay.GlyphType = 'Arrow'\n",
    "collection_0siloDisplay.GlyphTableIndexArray = 'None'\n",
    "collection_0siloDisplay.GaussianRadius = 0.015\n",
    "collection_0siloDisplay.SetScaleArray = [None, '']\n",
    "collection_0siloDisplay.ScaleTransferFunction = 'PiecewiseFunction'\n",
    "collection_0siloDisplay.OpacityArray = [None, '']\n",
    "collection_0siloDisplay.OpacityTransferFunction = 'PiecewiseFunction'\n",
    "collection_0siloDisplay.DataAxesGrid = 'GridAxesRepresentation'\n",
    "collection_0siloDisplay.PolarAxes = 'PolarAxesRepresentation'\n",
    "collection_0siloDisplay.ScalarOpacityUnitDistance = 0.09872385855544324\n",
    "collection_0siloDisplay.ScalarOpacityFunction = alpha1PWF\n",
    "collection_0siloDisplay.TransferFunction2D = alpha1TF2D\n",
    "collection_0siloDisplay.OpacityArrayName = ['CELLS', 'alpha1']\n",
    "collection_0siloDisplay.ColorArray2Name = ['CELLS', 'alpha1']\n",
    "collection_0siloDisplay.SliceFunction = 'Plane'\n",
    "collection_0siloDisplay.SelectInputVectors = [None, '']\n",
    "collection_0siloDisplay.WriteLog = ''\n",
    "\n",
    "# init the 'Plane' selected for 'SliceFunction'\n",
    "collection_0siloDisplay.SliceFunction.Origin = [1.0, 0.0, 0.0]\n",
    "\n",
    "# ----------------------------------------------------------------\n",
    "# setup color maps and opacity mapes used in the visualization\n",
    "# note: the Get..() functions create a new object, if needed\n",
    "# ----------------------------------------------------------------\n",
    "\n",
    "# ----------------------------------------------------------------\n",
    "# restore active source\n",
    "SetActiveSource(collection_0silo)\n",
    "# ----------------------------------------------------------------\n",
    "\n",
    "# Ensure all time steps are considered\n",
    "timeKeeper = GetTimeKeeper()\n",
    "timeSteps = timeKeeper.TimestepValues\n",
    "\n",
    "animationScene = GetAnimationScene()\n",
    "\n",
    "directory_path = f\"{case_dir}/render\"\n",
    "os.makedirs(directory_path, exist_ok=True)\n",
    "\n",
    "i = 0\n",
    "# Save all timesteps\n",
    "for t in timeSteps:\n",
    "    animationScene.AnimationTime = t\n",
    "    SaveScreenshot(f\"{case_dir}/render/pic.{i:04d}.png\", renderView1, ImageResolution=[2110,722])\n",
    "    print(i)\n",
    "    i = i + 1"
   ]
  },
  {
   "cell_type": "code",
   "execution_count": null,
   "id": "9e671aac",
   "metadata": {},
   "outputs": [],
   "source": [
    "from IPython.display import Image\n",
    "Image(filename=f'{case_dir}/render/pic.0.png')"
   ]
  }
 ],
 "metadata": {
  "kernelspec": {
   "display_name": "Python 3",
   "language": "python",
   "name": "python3"
  },
  "language_info": {
   "codemirror_mode": {
    "name": "ipython",
    "version": 3
   },
   "file_extension": ".py",
   "mimetype": "text/x-python",
   "name": "python",
   "nbconvert_exporter": "python",
   "pygments_lexer": "ipython3",
   "version": "3.10.16"
  }
 },
 "nbformat": 4,
 "nbformat_minor": 5
}
